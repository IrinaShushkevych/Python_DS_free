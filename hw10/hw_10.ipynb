{
 "cells": [
  {
   "cell_type": "code",
   "execution_count": 2,
   "id": "972535f0",
   "metadata": {},
   "outputs": [],
   "source": [
    "from surprise import SVD, SVDpp, NMF, Dataset, accuracy\n",
    "from surprise.model_selection import cross_validate\n",
    "from surprise.model_selection import train_test_split\n",
    "from scipy.io import loadmat"
   ]
  },
  {
   "cell_type": "code",
   "execution_count": 3,
   "id": "e6580e5d",
   "metadata": {},
   "outputs": [],
   "source": [
    "data = Dataset.load_builtin(\"ml-100k\")\n",
    "train_data, test_data = train_test_split(data, test_size=0.25)"
   ]
  },
  {
   "cell_type": "code",
   "execution_count": 4,
   "id": "5d18c6cc",
   "metadata": {},
   "outputs": [],
   "source": [
    "svd = SVD()\n",
    "svdpp = SVDpp()\n",
    "nmf = NMF()"
   ]
  },
  {
   "cell_type": "code",
   "execution_count": 6,
   "id": "9f5ded6d",
   "metadata": {},
   "outputs": [
    {
     "name": "stdout",
     "output_type": "stream",
     "text": [
      "Evaluating RMSE, MAE of algorithm SVD on 5 split(s).\n",
      "\n",
      "                  Fold 1  Fold 2  Fold 3  Fold 4  Fold 5  Mean    Std     \n",
      "RMSE (testset)    0.9360  0.9331  0.9397  0.9395  0.9350  0.9367  0.0026  \n",
      "MAE (testset)     0.7393  0.7358  0.7391  0.7409  0.7392  0.7389  0.0017  \n",
      "Fit time          0.94    1.09    0.96    1.02    0.98    1.00    0.05    \n",
      "Test time         0.30    0.16    0.11    0.16    0.09    0.16    0.07    \n",
      "Evaluating RMSE, MAE of algorithm SVD on 3 split(s).\n",
      "\n",
      "                  Fold 1  Fold 2  Fold 3  Mean    Std     \n",
      "RMSE (testset)    0.9427  0.9465  0.9439  0.9444  0.0016  \n",
      "MAE (testset)     0.7435  0.7464  0.7451  0.7450  0.0012  \n",
      "Fit time          0.82    0.90    0.81    0.85    0.04    \n",
      "Test time         0.22    0.22    0.22    0.22    0.00    \n",
      "Evaluating RMSE, MAE of algorithm SVD on 2 split(s).\n",
      "\n",
      "                  Fold 1  Fold 2  Mean    Std     \n",
      "RMSE (testset)    0.9575  0.9563  0.9569  0.0006  \n",
      "MAE (testset)     0.7553  0.7573  0.7563  0.0010  \n",
      "Fit time          0.86    0.74    0.80    0.06    \n",
      "Test time         0.36    0.38    0.37    0.01    \n",
      "Evaluating RMSE, MAE of algorithm SVDpp on 5 split(s).\n",
      "\n",
      "                  Fold 1  Fold 2  Fold 3  Fold 4  Fold 5  Mean    Std     \n",
      "RMSE (testset)    0.9194  0.9202  0.9228  0.9106  0.9242  0.9194  0.0047  \n",
      "MAE (testset)     0.7206  0.7238  0.7224  0.7134  0.7267  0.7214  0.0045  \n",
      "Fit time          18.45   17.89   18.18   17.61   17.42   17.91   0.37    \n",
      "Test time         3.01    3.04    2.93    3.33    2.86    3.03    0.16    \n",
      "Evaluating RMSE, MAE of algorithm NMF on 5 split(s).\n",
      "\n",
      "                  Fold 1  Fold 2  Fold 3  Fold 4  Fold 5  Mean    Std     \n",
      "RMSE (testset)    0.9686  0.9570  0.9695  0.9676  0.9625  0.9650  0.0047  \n",
      "MAE (testset)     0.7621  0.7499  0.7622  0.7608  0.7547  0.7579  0.0049  \n",
      "Fit time          1.53    1.64    1.41    1.39    1.70    1.53    0.12    \n",
      "Test time         0.08    0.09    0.08    0.09    0.08    0.08    0.01    \n"
     ]
    }
   ],
   "source": [
    "resultSVD = cross_validate(svd, data, measures=['RMSE', 'MAE'], cv=5, verbose=True)\n",
    "resultSVD3 = cross_validate(svd, data, measures=['RMSE', 'MAE'], cv=3, verbose=True)\n",
    "resultSVD2 = cross_validate(svd, data, measures=['RMSE', 'MAE'], cv=2, verbose=True)\n",
    "resultSVDpp = cross_validate(svdpp, data, measures=['RMSE', 'MAE'], cv=5, verbose=True)\n",
    "resultNMF = cross_validate(nmf, data, measures=['RMSE', 'MAE'], cv=5, verbose=True)"
   ]
  },
  {
   "cell_type": "code",
   "execution_count": 8,
   "id": "fab01cd1",
   "metadata": {},
   "outputs": [
    {
     "name": "stdout",
     "output_type": "stream",
     "text": [
      "The value of pi is approximately 3.155.\n",
      "  Method      RMSE       MAE    \n",
      "   SVD5         0.94      0.74\n",
      "   SVD3         0.94      0.74\n",
      "   SVD2         0.96      0.76\n",
      "  SVDpp         0.92      0.72\n",
      "   NMF          0.97      0.76\n"
     ]
    }
   ],
   "source": [
    "print(f'The value of pi is approximately {3.1545:.3f}.')\n",
    "print(f\"{'Method':^10} {'RMSE':^10} {'MAE':^10}\")\n",
    "print(f\"{'SVD5':^10} {resultSVD['test_rmse'].mean():9.2n} {resultSVD['test_mae'].mean():9.2n}\")\n",
    "print(f\"{'SVD3':^10} {resultSVD3['test_rmse'].mean():9.2n} {resultSVD3['test_mae'].mean():9.2n}\")\n",
    "print(f\"{'SVD2':^10} {resultSVD2['test_rmse'].mean():9.2n} {resultSVD2['test_mae'].mean():9.2n}\")\n",
    "print(f\"{'SVDpp':^10} {resultSVDpp['test_rmse'].mean():9.2n} {resultSVDpp['test_mae'].mean():9.2n}\")\n",
    "print(f\"{'NMF':^10} {resultNMF['test_rmse'].mean():9.2n} {resultNMF['test_mae'].mean():9.2n}\")    "
   ]
  },
  {
   "cell_type": "code",
   "execution_count": 62,
   "id": "f0d4c05e",
   "metadata": {},
   "outputs": [],
   "source": [
    "predictions_svd = svd.fit(train_data).test(test_data)\n",
    "predictions_svdpp = svdpp.fit(train_data).test(test_data)\n",
    "predictions_nmf = nmf.fit(train_data).test(test_data)"
   ]
  },
  {
   "cell_type": "code",
   "execution_count": 65,
   "id": "37b7719f",
   "metadata": {},
   "outputs": [
    {
     "name": "stdout",
     "output_type": "stream",
     "text": [
      "SVD\n",
      "RMSE: 0.9332\n",
      "SVDpp\n",
      "RMSE: 0.9164\n",
      "NMF\n",
      "RMSE: 0.9623\n"
     ]
    },
    {
     "data": {
      "text/plain": [
       "0.9623054931739102"
      ]
     },
     "execution_count": 65,
     "metadata": {},
     "output_type": "execute_result"
    }
   ],
   "source": [
    "print('SVD')\n",
    "accuracy.rmse(predictions_svd)\n",
    "print('SVDpp')\n",
    "accuracy.rmse(predictions_svdpp)\n",
    "print('NMF')\n",
    "accuracy.rmse(predictions_nmf)"
   ]
  },
  {
   "cell_type": "markdown",
   "id": "8a49f42d",
   "metadata": {},
   "source": [
    "Результат:   Найкращий результат надає метод NMF"
   ]
  },
  {
   "cell_type": "code",
   "execution_count": null,
   "id": "56b357cd",
   "metadata": {},
   "outputs": [],
   "source": []
  }
 ],
 "metadata": {
  "kernelspec": {
   "display_name": "Python 3 (ipykernel)",
   "language": "python",
   "name": "python3"
  },
  "language_info": {
   "codemirror_mode": {
    "name": "ipython",
    "version": 3
   },
   "file_extension": ".py",
   "mimetype": "text/x-python",
   "name": "python",
   "nbconvert_exporter": "python",
   "pygments_lexer": "ipython3",
   "version": "3.11.3"
  }
 },
 "nbformat": 4,
 "nbformat_minor": 5
}
