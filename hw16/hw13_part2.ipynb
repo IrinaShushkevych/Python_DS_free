{
  "cells": [
    {
      "cell_type": "code",
      "execution_count": 1,
      "metadata": {
        "id": "YJM1AH4JxqSW"
      },
      "outputs": [],
      "source": [
        "import numpy as np\n",
        "import tensorflow as tf\n",
        "from tensorflow import keras\n",
        "from keras.models import Sequential\n",
        "from keras.layers import Flatten, Dense, Dropout\n",
        "from keras.applications import VGG16\n",
        "from keras.optimizers import Adam"
      ]
    },
    {
      "attachments": {},
      "cell_type": "markdown",
      "metadata": {
        "id": "2GzsJonFnJet"
      },
      "source": [
        "# Частина 2"
      ]
    },
    {
      "cell_type": "code",
      "execution_count": 2,
      "metadata": {
        "colab": {
          "base_uri": "https://localhost:8080/"
        },
        "id": "tmzm4Vqmx4nq",
        "outputId": "af96d50b-cf52-4973-f42a-5d6a20ef07b7"
      },
      "outputs": [],
      "source": [
        "fashion_mnist = keras.datasets.fashion_mnist\n",
        "(train_images, train_labels), (test_images, test_labels) = fashion_mnist.load_data()"
      ]
    },
    {
      "cell_type": "code",
      "execution_count": 3,
      "metadata": {
        "colab": {
          "background_save": true
        },
        "id": "2hk16wXGx5Yn"
      },
      "outputs": [],
      "source": [
        "image_size = (32, 32)\n",
        "train_images = tf.image.resize(train_images[..., np.newaxis], image_size)\n",
        "train_images = np.repeat(train_images, 3, axis=-1)\n",
        "test_images = tf.image.resize(test_images[..., np.newaxis], image_size)\n",
        "test_images = np.repeat(test_images, 3, axis=-1)\n",
        "train_images = np.array(train_images) / 255.0\n",
        "test_images = np.array(test_images) / 255.0"
      ]
    },
    {
      "cell_type": "code",
      "execution_count": 4,
      "metadata": {
        "id": "XWquEzpP1B4Z"
      },
      "outputs": [],
      "source": [
        "num_classes = 10\n",
        "\n",
        "train_labels = tf.keras.utils.to_categorical(train_labels, num_classes)\n",
        "test_labels = tf.keras.utils.to_categorical(test_labels, num_classes)"
      ]
    },
    {
      "cell_type": "code",
      "execution_count": 5,
      "metadata": {
        "id": "9-lGp46jyBB_"
      },
      "outputs": [
        {
          "name": "stdout",
          "output_type": "stream",
          "text": [
            "Downloading data from https://storage.googleapis.com/tensorflow/keras-applications/vgg16/vgg16_weights_tf_dim_ordering_tf_kernels_notop.h5\n",
            "58889256/58889256 [==============================] - 9s 0us/step\n"
          ]
        }
      ],
      "source": [
        "vgg_base = VGG16(\n",
        "    weights='imagenet',\n",
        "    include_top=False,\n",
        "    input_shape=(image_size[0], image_size[1], 3)\n",
        "    )\n",
        "\n",
        "\n",
        "vgg_base.trainable = False"
      ]
    },
    {
      "cell_type": "code",
      "execution_count": 6,
      "metadata": {
        "id": "AJDVmqDo1QBO"
      },
      "outputs": [],
      "source": [
        "model = Sequential([\n",
        "    vgg_base,\n",
        "    Flatten(),\n",
        "    Dense(512, activation='relu'),\n",
        "    Dropout(0.25),\n",
        "    Dense(num_classes, activation='softmax'),\n",
        "])"
      ]
    },
    {
      "cell_type": "code",
      "execution_count": 7,
      "metadata": {
        "id": "Lfo4U1iHyVHA"
      },
      "outputs": [],
      "source": [
        "optimizer = Adam(learning_rate=0.001)\n",
        "\n",
        "model.compile(optimizer=optimizer,\n",
        "              loss='categorical_crossentropy',\n",
        "              metrics=['accuracy'])"
      ]
    },
    {
      "cell_type": "code",
      "execution_count": 8,
      "metadata": {
        "colab": {
          "base_uri": "https://localhost:8080/"
        },
        "id": "XF4xx7NUyZ9e",
        "outputId": "c68a7fe9-d86b-4770-cc70-369cd7f24241"
      },
      "outputs": [
        {
          "name": "stdout",
          "output_type": "stream",
          "text": [
            "Epoch 1/20\n",
            "469/469 [==============================] - 421s 895ms/step - loss: 0.5875 - accuracy: 0.7932 - val_loss: 0.4603 - val_accuracy: 0.8347\n",
            "Epoch 2/20\n",
            "469/469 [==============================] - 415s 886ms/step - loss: 0.4259 - accuracy: 0.8431 - val_loss: 0.4068 - val_accuracy: 0.8508\n",
            "Epoch 3/20\n",
            "469/469 [==============================] - 484s 1s/step - loss: 0.3914 - accuracy: 0.8554 - val_loss: 0.4102 - val_accuracy: 0.8512\n",
            "Epoch 4/20\n",
            "469/469 [==============================] - 488s 1s/step - loss: 0.3688 - accuracy: 0.8637 - val_loss: 0.3791 - val_accuracy: 0.8603\n",
            "Epoch 5/20\n",
            "469/469 [==============================] - 530s 1s/step - loss: 0.3518 - accuracy: 0.8691 - val_loss: 0.3725 - val_accuracy: 0.8666\n",
            "Epoch 6/20\n",
            "469/469 [==============================] - 532s 1s/step - loss: 0.3397 - accuracy: 0.8745 - val_loss: 0.3720 - val_accuracy: 0.8639\n",
            "Epoch 7/20\n",
            "469/469 [==============================] - 496s 1s/step - loss: 0.3254 - accuracy: 0.8790 - val_loss: 0.3615 - val_accuracy: 0.8701\n",
            "Epoch 8/20\n",
            "469/469 [==============================] - 485s 1s/step - loss: 0.3167 - accuracy: 0.8823 - val_loss: 0.3707 - val_accuracy: 0.8658\n",
            "Epoch 9/20\n",
            "469/469 [==============================] - 510s 1s/step - loss: 0.3085 - accuracy: 0.8852 - val_loss: 0.3540 - val_accuracy: 0.8707\n",
            "Epoch 10/20\n",
            "469/469 [==============================] - 485s 1s/step - loss: 0.2990 - accuracy: 0.8883 - val_loss: 0.3503 - val_accuracy: 0.8743\n",
            "Epoch 11/20\n",
            "469/469 [==============================] - 434s 927ms/step - loss: 0.2889 - accuracy: 0.8922 - val_loss: 0.3581 - val_accuracy: 0.8716\n",
            "Epoch 12/20\n",
            "469/469 [==============================] - 421s 898ms/step - loss: 0.2834 - accuracy: 0.8941 - val_loss: 0.3466 - val_accuracy: 0.8767\n",
            "Epoch 13/20\n",
            "469/469 [==============================] - 389s 830ms/step - loss: 0.2771 - accuracy: 0.8966 - val_loss: 0.3481 - val_accuracy: 0.8788\n",
            "Epoch 14/20\n",
            "469/469 [==============================] - 390s 831ms/step - loss: 0.2704 - accuracy: 0.8992 - val_loss: 0.3489 - val_accuracy: 0.8755\n",
            "Epoch 15/20\n",
            "469/469 [==============================] - 414s 884ms/step - loss: 0.2658 - accuracy: 0.9001 - val_loss: 0.3543 - val_accuracy: 0.8781\n",
            "Epoch 16/20\n",
            "469/469 [==============================] - 434s 926ms/step - loss: 0.2576 - accuracy: 0.9030 - val_loss: 0.3494 - val_accuracy: 0.8792\n",
            "Epoch 17/20\n",
            "469/469 [==============================] - 412s 878ms/step - loss: 0.2523 - accuracy: 0.9055 - val_loss: 0.3488 - val_accuracy: 0.8800\n",
            "Epoch 18/20\n",
            "469/469 [==============================] - 407s 869ms/step - loss: 0.2464 - accuracy: 0.9072 - val_loss: 0.3490 - val_accuracy: 0.8767\n",
            "Epoch 19/20\n",
            "469/469 [==============================] - 409s 872ms/step - loss: 0.2403 - accuracy: 0.9089 - val_loss: 0.3517 - val_accuracy: 0.8789\n",
            "Epoch 20/20\n",
            "469/469 [==============================] - 408s 870ms/step - loss: 0.2351 - accuracy: 0.9107 - val_loss: 0.3498 - val_accuracy: 0.8800\n"
          ]
        }
      ],
      "source": [
        "batch_size = 128\n",
        "epochs = 20\n",
        "\n",
        "history = model.fit(train_images, train_labels,\n",
        "          batch_size=batch_size,\n",
        "          epochs=epochs,\n",
        "          validation_data=(test_images, test_labels))"
      ]
    },
    {
      "cell_type": "code",
      "execution_count": 9,
      "metadata": {
        "colab": {
          "base_uri": "https://localhost:8080/"
        },
        "id": "sEBfgeE-ydm9",
        "outputId": "bd10d0bf-b7ca-4b48-afdd-4566b7a23c90"
      },
      "outputs": [
        {
          "name": "stdout",
          "output_type": "stream",
          "text": [
            "313/313 [==============================] - 62s 197ms/step - loss: 0.3498 - accuracy: 0.8800\n",
            "Точність на тестових даних: 88.00%\n"
          ]
        }
      ],
      "source": [
        "_, accuracy = model.evaluate(test_images, test_labels)\n",
        "print(f'Точність на тестових даних: {accuracy * 100:.2f}%')"
      ]
    },
    {
      "cell_type": "code",
      "execution_count": 10,
      "metadata": {
        "colab": {
          "base_uri": "https://localhost:8080/",
          "height": 782
        },
        "id": "bTIeM6JOYc6Q",
        "outputId": "9beb7e7a-7994-46c7-e423-36b2bec93b25"
      },
      "outputs": [
        {
          "name": "stdout",
          "output_type": "stream",
          "text": [
            "Model: \"vgg16\"\n",
            "_________________________________________________________________\n",
            " Layer (type)                Output Shape              Param #   \n",
            "=================================================================\n",
            " input_1 (InputLayer)        [(None, 32, 32, 3)]       0         \n",
            "                                                                 \n",
            " block1_conv1 (Conv2D)       (None, 32, 32, 64)        1792      \n",
            "                                                                 \n",
            " block1_conv2 (Conv2D)       (None, 32, 32, 64)        36928     \n",
            "                                                                 \n",
            " block1_pool (MaxPooling2D)  (None, 16, 16, 64)        0         \n",
            "                                                                 \n",
            " block2_conv1 (Conv2D)       (None, 16, 16, 128)       73856     \n",
            "                                                                 \n",
            " block2_conv2 (Conv2D)       (None, 16, 16, 128)       147584    \n",
            "                                                                 \n",
            " block2_pool (MaxPooling2D)  (None, 8, 8, 128)         0         \n",
            "                                                                 \n",
            " block3_conv1 (Conv2D)       (None, 8, 8, 256)         295168    \n",
            "                                                                 \n",
            " block3_conv2 (Conv2D)       (None, 8, 8, 256)         590080    \n",
            "                                                                 \n",
            " block3_conv3 (Conv2D)       (None, 8, 8, 256)         590080    \n",
            "                                                                 \n",
            " block3_pool (MaxPooling2D)  (None, 4, 4, 256)         0         \n",
            "                                                                 \n",
            " block4_conv1 (Conv2D)       (None, 4, 4, 512)         1180160   \n",
            "                                                                 \n",
            " block4_conv2 (Conv2D)       (None, 4, 4, 512)         2359808   \n",
            "                                                                 \n",
            " block4_conv3 (Conv2D)       (None, 4, 4, 512)         2359808   \n",
            "                                                                 \n",
            " block4_pool (MaxPooling2D)  (None, 2, 2, 512)         0         \n",
            "                                                                 \n",
            " block5_conv1 (Conv2D)       (None, 2, 2, 512)         2359808   \n",
            "                                                                 \n",
            " block5_conv2 (Conv2D)       (None, 2, 2, 512)         2359808   \n",
            "                                                                 \n",
            " block5_conv3 (Conv2D)       (None, 2, 2, 512)         2359808   \n",
            "                                                                 \n",
            " block5_pool (MaxPooling2D)  (None, 1, 1, 512)         0         \n",
            "                                                                 \n",
            "=================================================================\n",
            "Total params: 14,714,688\n",
            "Trainable params: 0\n",
            "Non-trainable params: 14,714,688\n",
            "_________________________________________________________________\n"
          ]
        }
      ],
      "source": [
        "vgg_base.summary()"
      ]
    },
    {
      "cell_type": "code",
      "execution_count": 11,
      "metadata": {
        "id": "pgjK8rHEaukz"
      },
      "outputs": [],
      "source": [
        "vgg_base = VGG16(weights='imagenet', include_top=False, input_shape=(32, 32, 3))\n",
        "vgg_base.trainable = True\n",
        "set_trainable = False\n",
        "for layer in vgg_base.layers:\n",
        "    if layer.name == \"block5_conv1\":\n",
        "        set_trainable = True\n",
        "    if layer.name == \"block5_conv2\":\n",
        "        set_trainable = True\n",
        "    if layer.name == \"block5_conv3\":\n",
        "        set_trainable = True\n",
        "    if set_trainable:\n",
        "        layer.trainable = True\n",
        "    else:\n",
        "        layer.trainable = False\n",
        "\n",
        "\n",
        "modified_model = Sequential([\n",
        "   vgg_base,\n",
        "   Flatten(),\n",
        "   Dense(256, activation=\"relu\"),\n",
        "   Dense(10, activation=\"softmax\"),\n",
        "])"
      ]
    },
    {
      "cell_type": "code",
      "execution_count": 12,
      "metadata": {
        "colab": {
          "base_uri": "https://localhost:8080/"
        },
        "id": "jWNSNSjFcf34",
        "outputId": "c251b9db-f54c-487e-d447-a84b0fc3a89f"
      },
      "outputs": [
        {
          "name": "stdout",
          "output_type": "stream",
          "text": [
            "Epoch 1/20\n",
            "469/469 [==============================] - 436s 927ms/step - loss: 0.2034 - accuracy: 0.9245 - val_loss: 0.3368 - val_accuracy: 0.8863\n",
            "Epoch 2/20\n",
            "469/469 [==============================] - 434s 926ms/step - loss: 0.1971 - accuracy: 0.9278 - val_loss: 0.3377 - val_accuracy: 0.8849\n",
            "Epoch 3/20\n",
            "469/469 [==============================] - 433s 924ms/step - loss: 0.1927 - accuracy: 0.9294 - val_loss: 0.3376 - val_accuracy: 0.8864\n",
            "Epoch 4/20\n",
            "469/469 [==============================] - 435s 928ms/step - loss: 0.1908 - accuracy: 0.9305 - val_loss: 0.3361 - val_accuracy: 0.8859\n",
            "Epoch 5/20\n",
            "469/469 [==============================] - 433s 924ms/step - loss: 0.1894 - accuracy: 0.9316 - val_loss: 0.3377 - val_accuracy: 0.8862\n",
            "Epoch 6/20\n",
            "469/469 [==============================] - 435s 927ms/step - loss: 0.1880 - accuracy: 0.9315 - val_loss: 0.3352 - val_accuracy: 0.8859\n",
            "Epoch 7/20\n",
            "469/469 [==============================] - 434s 926ms/step - loss: 0.1877 - accuracy: 0.9316 - val_loss: 0.3369 - val_accuracy: 0.8877\n",
            "Epoch 8/20\n",
            "469/469 [==============================] - 436s 930ms/step - loss: 0.1861 - accuracy: 0.9329 - val_loss: 0.3373 - val_accuracy: 0.8870\n",
            "Epoch 9/20\n",
            "469/469 [==============================] - 435s 927ms/step - loss: 0.1846 - accuracy: 0.9327 - val_loss: 0.3381 - val_accuracy: 0.8874\n",
            "Epoch 10/20\n",
            "469/469 [==============================] - 435s 927ms/step - loss: 0.1836 - accuracy: 0.9341 - val_loss: 0.3382 - val_accuracy: 0.8874\n",
            "Epoch 11/20\n",
            "469/469 [==============================] - 434s 925ms/step - loss: 0.1823 - accuracy: 0.9343 - val_loss: 0.3375 - val_accuracy: 0.8869\n",
            "Epoch 12/20\n",
            "469/469 [==============================] - 435s 927ms/step - loss: 0.1811 - accuracy: 0.9348 - val_loss: 0.3400 - val_accuracy: 0.8870\n",
            "Epoch 13/20\n",
            "469/469 [==============================] - 434s 926ms/step - loss: 0.1793 - accuracy: 0.9348 - val_loss: 0.3390 - val_accuracy: 0.8871\n",
            "Epoch 14/20\n",
            "469/469 [==============================] - 435s 927ms/step - loss: 0.1785 - accuracy: 0.9354 - val_loss: 0.3375 - val_accuracy: 0.8868\n",
            "Epoch 15/20\n",
            "469/469 [==============================] - 436s 929ms/step - loss: 0.1767 - accuracy: 0.9365 - val_loss: 0.3374 - val_accuracy: 0.8881\n",
            "Epoch 16/20\n",
            "469/469 [==============================] - 433s 924ms/step - loss: 0.1756 - accuracy: 0.9366 - val_loss: 0.3397 - val_accuracy: 0.8865\n",
            "Epoch 17/20\n",
            "469/469 [==============================] - 434s 925ms/step - loss: 0.1756 - accuracy: 0.9370 - val_loss: 0.3404 - val_accuracy: 0.8865\n",
            "Epoch 18/20\n",
            "469/469 [==============================] - 434s 925ms/step - loss: 0.1745 - accuracy: 0.9367 - val_loss: 0.3398 - val_accuracy: 0.8875\n",
            "Epoch 19/20\n",
            "469/469 [==============================] - 432s 921ms/step - loss: 0.1728 - accuracy: 0.9376 - val_loss: 0.3405 - val_accuracy: 0.8862\n",
            "Epoch 20/20\n",
            "469/469 [==============================] - 419s 893ms/step - loss: 0.1726 - accuracy: 0.9381 - val_loss: 0.3403 - val_accuracy: 0.8882\n"
          ]
        }
      ],
      "source": [
        "model.compile(\n",
        "    optimizer=Adam(learning_rate=0.0001),\n",
        "    loss='categorical_crossentropy',\n",
        "    metrics=['accuracy'])\n",
        "\n",
        "history = model.fit(train_images, train_labels,\n",
        "          batch_size=batch_size,\n",
        "          epochs=epochs,\n",
        "          validation_data=(test_images, test_labels))"
      ]
    },
    {
      "cell_type": "code",
      "execution_count": 13,
      "metadata": {
        "id": "tVAA5LHdhFL0"
      },
      "outputs": [
        {
          "name": "stdout",
          "output_type": "stream",
          "text": [
            "313/313 [==============================] - 65s 209ms/step - loss: 0.3403 - accuracy: 0.8882\n",
            "Точність на тестових даних: 88.82%\n"
          ]
        }
      ],
      "source": [
        "_, accuracy = model.evaluate(test_images, test_labels)\n",
        "print(f'Точність на тестових даних: {accuracy * 100:.2f}%')"
      ]
    }
  ],
  "metadata": {
    "colab": {
      "provenance": []
    },
    "kernelspec": {
      "display_name": "Python 3",
      "name": "python3"
    },
    "language_info": {
      "codemirror_mode": {
        "name": "ipython",
        "version": 3
      },
      "file_extension": ".py",
      "mimetype": "text/x-python",
      "name": "python",
      "nbconvert_exporter": "python",
      "pygments_lexer": "ipython3",
      "version": "3.11.3"
    }
  },
  "nbformat": 4,
  "nbformat_minor": 0
}
