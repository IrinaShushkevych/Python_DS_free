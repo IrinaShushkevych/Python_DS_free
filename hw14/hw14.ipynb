{
  "cells": [
    {
      "cell_type": "code",
      "execution_count": 12,
      "metadata": {
        "id": "YoycStxZxutZ"
      },
      "outputs": [],
      "source": [
        "from tensorflow import keras\n",
        "from keras.models import Sequential\n",
        "from keras.layers import Embedding, SimpleRNN, Dense, LSTM, Bidirectional, GRU\n",
        "from keras.datasets import imdb\n",
        "from keras.utils import pad_sequences\n",
        "from keras.optimizers import Adamax\n",
        "import matplotlib.pyplot as plt"
      ]
    },
    {
      "cell_type": "code",
      "execution_count": 13,
      "metadata": {
        "id": "LjECERZXxutb"
      },
      "outputs": [],
      "source": [
        "max_features = 10000\n",
        "maxlen = 500\n",
        "batch_size = 64"
      ]
    },
    {
      "cell_type": "code",
      "execution_count": 14,
      "metadata": {
        "id": "BI_OVqk1xutc"
      },
      "outputs": [],
      "source": [
        "(input_train, y_train), (input_test, y_test) = imdb.load_data(num_words=max_features)"
      ]
    },
    {
      "cell_type": "code",
      "execution_count": 15,
      "metadata": {
        "id": "sn0BMClKxutc"
      },
      "outputs": [],
      "source": [
        "input_train = pad_sequences(input_train, maxlen=maxlen)\n",
        "input_test = pad_sequences(input_test, maxlen=maxlen)"
      ]
    },
    {
      "cell_type": "markdown",
      "metadata": {
        "id": "f_w9vvzUxutd"
      },
      "source": [
        "GRU"
      ]
    },
    {
      "cell_type": "code",
      "execution_count": 17,
      "metadata": {
        "id": "1q02SxPyxutf"
      },
      "outputs": [],
      "source": [
        "model_GRU = Sequential([\n",
        "  Embedding(max_features, 32),\n",
        "\n",
        "  GRU(32),\n",
        "\n",
        "  Dense(1, activation='sigmoid')\n",
        "  ]\n",
        ")\n",
        "\n",
        "model_GRU.compile(optimizer=Adamax(learning_rate=0.0005), loss='binary_crossentropy', metrics=['acc'])"
      ]
    },
    {
      "cell_type": "code",
      "execution_count": 18,
      "metadata": {
        "colab": {
          "base_uri": "https://localhost:8080/"
        },
        "id": "GXaQaYKJxutg",
        "outputId": "92acf3e7-24fc-4c78-9783-fae203b65c50"
      },
      "outputs": [
        {
          "output_type": "stream",
          "name": "stdout",
          "text": [
            "Epoch 1/10\n",
            "\u001b[1m200/200\u001b[0m \u001b[32m━━━━━━━━━━━━━━━━━━━━\u001b[0m\u001b[37m\u001b[0m \u001b[1m70s\u001b[0m 332ms/step - acc: 0.5358 - loss: 0.6918 - val_acc: 0.6210 - val_loss: 0.6841\n",
            "Epoch 2/10\n",
            "\u001b[1m200/200\u001b[0m \u001b[32m━━━━━━━━━━━━━━━━━━━━\u001b[0m\u001b[37m\u001b[0m \u001b[1m39s\u001b[0m 193ms/step - acc: 0.6447 - loss: 0.6746 - val_acc: 0.7120 - val_loss: 0.6345\n",
            "Epoch 3/10\n",
            "\u001b[1m200/200\u001b[0m \u001b[32m━━━━━━━━━━━━━━━━━━━━\u001b[0m\u001b[37m\u001b[0m \u001b[1m67s\u001b[0m 335ms/step - acc: 0.7675 - loss: 0.5245 - val_acc: 0.8318 - val_loss: 0.4037\n",
            "Epoch 4/10\n",
            "\u001b[1m200/200\u001b[0m \u001b[32m━━━━━━━━━━━━━━━━━━━━\u001b[0m\u001b[37m\u001b[0m \u001b[1m40s\u001b[0m 201ms/step - acc: 0.8276 - loss: 0.4024 - val_acc: 0.8424 - val_loss: 0.3723\n",
            "Epoch 5/10\n",
            "\u001b[1m200/200\u001b[0m \u001b[32m━━━━━━━━━━━━━━━━━━━━\u001b[0m\u001b[37m\u001b[0m \u001b[1m67s\u001b[0m 335ms/step - acc: 0.8619 - loss: 0.3451 - val_acc: 0.8518 - val_loss: 0.3420\n",
            "Epoch 6/10\n",
            "\u001b[1m200/200\u001b[0m \u001b[32m━━━━━━━━━━━━━━━━━━━━\u001b[0m\u001b[37m\u001b[0m \u001b[1m39s\u001b[0m 195ms/step - acc: 0.8752 - loss: 0.3040 - val_acc: 0.8706 - val_loss: 0.3182\n",
            "Epoch 7/10\n",
            "\u001b[1m200/200\u001b[0m \u001b[32m━━━━━━━━━━━━━━━━━━━━\u001b[0m\u001b[37m\u001b[0m \u001b[1m103s\u001b[0m 334ms/step - acc: 0.8933 - loss: 0.2750 - val_acc: 0.8732 - val_loss: 0.3049\n",
            "Epoch 8/10\n",
            "\u001b[1m200/200\u001b[0m \u001b[32m━━━━━━━━━━━━━━━━━━━━\u001b[0m\u001b[37m\u001b[0m \u001b[1m39s\u001b[0m 193ms/step - acc: 0.8992 - loss: 0.2554 - val_acc: 0.8738 - val_loss: 0.2998\n",
            "Epoch 9/10\n",
            "\u001b[1m200/200\u001b[0m \u001b[32m━━━━━━━━━━━━━━━━━━━━\u001b[0m\u001b[37m\u001b[0m \u001b[1m103s\u001b[0m 333ms/step - acc: 0.9104 - loss: 0.2349 - val_acc: 0.8804 - val_loss: 0.2880\n",
            "Epoch 10/10\n",
            "\u001b[1m200/200\u001b[0m \u001b[32m━━━━━━━━━━━━━━━━━━━━\u001b[0m\u001b[37m\u001b[0m \u001b[1m39s\u001b[0m 195ms/step - acc: 0.9152 - loss: 0.2301 - val_acc: 0.8832 - val_loss: 0.2844\n"
          ]
        }
      ],
      "source": [
        "history_GRU = model_GRU.fit(input_train, y_train, epochs=10, steps_per_epoch=200, batch_size=64, validation_split=0.2)"
      ]
    },
    {
      "cell_type": "code",
      "execution_count": 19,
      "metadata": {
        "colab": {
          "base_uri": "https://localhost:8080/"
        },
        "id": "IsRFEygoxutg",
        "outputId": "876957b1-bd1e-4cac-ff93-a8fc6e6db428"
      },
      "outputs": [
        {
          "output_type": "stream",
          "name": "stdout",
          "text": [
            "\u001b[1m782/782\u001b[0m \u001b[32m━━━━━━━━━━━━━━━━━━━━\u001b[0m\u001b[37m\u001b[0m \u001b[1m35s\u001b[0m 44ms/step - acc: 0.8782 - loss: 0.2942\n",
            "Test accuracy: 0.8759199976921082\n"
          ]
        }
      ],
      "source": [
        "_, accuracy_GRU = model_GRU.evaluate(input_test, y_test)\n",
        "print(\"Test accuracy:\", accuracy_GRU)"
      ]
    },
    {
      "cell_type": "markdown",
      "metadata": {
        "id": "4naTruaexuth"
      },
      "source": [
        "LSTM"
      ]
    },
    {
      "cell_type": "code",
      "execution_count": 21,
      "metadata": {
        "id": "_VloXV40xuth"
      },
      "outputs": [],
      "source": [
        "model_LSTM = Sequential([\n",
        "  Embedding(max_features, 32),\n",
        "\n",
        "  LSTM(32),\n",
        "\n",
        "  Dense(1, activation='sigmoid')\n",
        "  ]\n",
        ")\n",
        "\n",
        "model_LSTM.compile(optimizer=Adamax(learning_rate=0.0005), loss='binary_crossentropy', metrics=['accuracy'])"
      ]
    },
    {
      "cell_type": "code",
      "execution_count": 22,
      "metadata": {
        "colab": {
          "base_uri": "https://localhost:8080/"
        },
        "id": "9iA27OWwxuth",
        "outputId": "d122c4e6-f351-43e9-93be-e1cd59fa6dce"
      },
      "outputs": [
        {
          "output_type": "stream",
          "name": "stdout",
          "text": [
            "Epoch 1/10\n",
            "\u001b[1m200/200\u001b[0m \u001b[32m━━━━━━━━━━━━━━━━━━━━\u001b[0m\u001b[37m\u001b[0m \u001b[1m50s\u001b[0m 237ms/step - accuracy: 0.5288 - loss: 0.6922 - val_accuracy: 0.6610 - val_loss: 0.6546\n",
            "Epoch 2/10\n",
            "\u001b[1m200/200\u001b[0m \u001b[32m━━━━━━━━━━━━━━━━━━━━\u001b[0m\u001b[37m\u001b[0m \u001b[1m28s\u001b[0m 140ms/step - accuracy: 0.7069 - loss: 0.6147 - val_accuracy: 0.7572 - val_loss: 0.5693\n",
            "Epoch 3/10\n",
            "\u001b[1m200/200\u001b[0m \u001b[32m━━━━━━━━━━━━━━━━━━━━\u001b[0m\u001b[37m\u001b[0m \u001b[1m53s\u001b[0m 264ms/step - accuracy: 0.7814 - loss: 0.5467 - val_accuracy: 0.8144 - val_loss: 0.4880\n",
            "Epoch 4/10\n",
            "\u001b[1m200/200\u001b[0m \u001b[32m━━━━━━━━━━━━━━━━━━━━\u001b[0m\u001b[37m\u001b[0m \u001b[1m29s\u001b[0m 147ms/step - accuracy: 0.8135 - loss: 0.4749 - val_accuracy: 0.8122 - val_loss: 0.4654\n",
            "Epoch 5/10\n",
            "\u001b[1m200/200\u001b[0m \u001b[32m━━━━━━━━━━━━━━━━━━━━\u001b[0m\u001b[37m\u001b[0m \u001b[1m106s\u001b[0m 233ms/step - accuracy: 0.8386 - loss: 0.4334 - val_accuracy: 0.8452 - val_loss: 0.4200\n",
            "Epoch 6/10\n",
            "\u001b[1m200/200\u001b[0m \u001b[32m━━━━━━━━━━━━━━━━━━━━\u001b[0m\u001b[37m\u001b[0m \u001b[1m34s\u001b[0m 171ms/step - accuracy: 0.8641 - loss: 0.3887 - val_accuracy: 0.8552 - val_loss: 0.3958\n",
            "Epoch 7/10\n",
            "\u001b[1m200/200\u001b[0m \u001b[32m━━━━━━━━━━━━━━━━━━━━\u001b[0m\u001b[37m\u001b[0m \u001b[1m50s\u001b[0m 244ms/step - accuracy: 0.8802 - loss: 0.3567 - val_accuracy: 0.8626 - val_loss: 0.3695\n",
            "Epoch 8/10\n",
            "\u001b[1m200/200\u001b[0m \u001b[32m━━━━━━━━━━━━━━━━━━━━\u001b[0m\u001b[37m\u001b[0m \u001b[1m30s\u001b[0m 147ms/step - accuracy: 0.8793 - loss: 0.3359 - val_accuracy: 0.8702 - val_loss: 0.3555\n",
            "Epoch 9/10\n",
            "\u001b[1m200/200\u001b[0m \u001b[32m━━━━━━━━━━━━━━━━━━━━\u001b[0m\u001b[37m\u001b[0m \u001b[1m56s\u001b[0m 265ms/step - accuracy: 0.8926 - loss: 0.3139 - val_accuracy: 0.8772 - val_loss: 0.3315\n",
            "Epoch 10/10\n",
            "\u001b[1m200/200\u001b[0m \u001b[32m━━━━━━━━━━━━━━━━━━━━\u001b[0m\u001b[37m\u001b[0m \u001b[1m30s\u001b[0m 147ms/step - accuracy: 0.8983 - loss: 0.2959 - val_accuracy: 0.8772 - val_loss: 0.3334\n"
          ]
        }
      ],
      "source": [
        "history_LSTM = model_LSTM.fit(input_train, y_train, epochs=10, steps_per_epoch=200, batch_size=64, validation_split=0.2)"
      ]
    },
    {
      "cell_type": "code",
      "execution_count": 23,
      "metadata": {
        "colab": {
          "base_uri": "https://localhost:8080/"
        },
        "id": "AJWvzvHUxuti",
        "outputId": "99f4fd95-a262-4c4e-d6e3-7c191317e646"
      },
      "outputs": [
        {
          "output_type": "stream",
          "name": "stdout",
          "text": [
            "\u001b[1m782/782\u001b[0m \u001b[32m━━━━━━━━━━━━━━━━━━━━\u001b[0m\u001b[37m\u001b[0m \u001b[1m36s\u001b[0m 47ms/step - accuracy: 0.8670 - loss: 0.3368\n",
            "Test accuracy: 0.8679599761962891\n"
          ]
        }
      ],
      "source": [
        "_, accuracy_LSTM = model_LSTM.evaluate(input_test, y_test)\n",
        "print(\"Test accuracy:\", accuracy_LSTM)"
      ]
    },
    {
      "cell_type": "markdown",
      "metadata": {
        "id": "F50l5t-oxuti"
      },
      "source": [
        "RNN"
      ]
    },
    {
      "cell_type": "code",
      "execution_count": 25,
      "metadata": {
        "id": "nSKBfdjsxuti"
      },
      "outputs": [],
      "source": [
        "model_RNN = Sequential([\n",
        "  Embedding(max_features, 32),\n",
        "\n",
        "  SimpleRNN(32),\n",
        "\n",
        "  Dense(1, activation='sigmoid')\n",
        "  ]\n",
        ")\n",
        "\n",
        "\n",
        "model_RNN.compile(optimizer=Adamax(learning_rate=0.0005), loss='binary_crossentropy', metrics=['accuracy'])"
      ]
    },
    {
      "cell_type": "code",
      "execution_count": 26,
      "metadata": {
        "colab": {
          "base_uri": "https://localhost:8080/"
        },
        "id": "dC3M8jpdxutj",
        "outputId": "7009852d-b2b6-4793-c563-364e7b239ba5"
      },
      "outputs": [
        {
          "output_type": "stream",
          "name": "stdout",
          "text": [
            "Epoch 1/10\n",
            "\u001b[1m200/200\u001b[0m \u001b[32m━━━━━━━━━━━━━━━━━━━━\u001b[0m\u001b[37m\u001b[0m \u001b[1m33s\u001b[0m 150ms/step - accuracy: 0.5080 - loss: 0.6958 - val_accuracy: 0.5420 - val_loss: 0.6897\n",
            "Epoch 2/10\n",
            "\u001b[1m200/200\u001b[0m \u001b[32m━━━━━━━━━━━━━━━━━━━━\u001b[0m\u001b[37m\u001b[0m \u001b[1m17s\u001b[0m 87ms/step - accuracy: 0.5464 - loss: 0.6852 - val_accuracy: 0.5596 - val_loss: 0.6858\n",
            "Epoch 3/10\n",
            "\u001b[1m200/200\u001b[0m \u001b[32m━━━━━━━━━━━━━━━━━━━━\u001b[0m\u001b[37m\u001b[0m \u001b[1m62s\u001b[0m 137ms/step - accuracy: 0.6369 - loss: 0.6513 - val_accuracy: 0.6962 - val_loss: 0.6171\n",
            "Epoch 4/10\n",
            "\u001b[1m200/200\u001b[0m \u001b[32m━━━━━━━━━━━━━━━━━━━━\u001b[0m\u001b[37m\u001b[0m \u001b[1m16s\u001b[0m 80ms/step - accuracy: 0.7190 - loss: 0.5874 - val_accuracy: 0.7230 - val_loss: 0.5681\n",
            "Epoch 5/10\n",
            "\u001b[1m200/200\u001b[0m \u001b[32m━━━━━━━━━━━━━━━━━━━━\u001b[0m\u001b[37m\u001b[0m \u001b[1m26s\u001b[0m 132ms/step - accuracy: 0.7488 - loss: 0.5347 - val_accuracy: 0.7932 - val_loss: 0.4891\n",
            "Epoch 6/10\n",
            "\u001b[1m200/200\u001b[0m \u001b[32m━━━━━━━━━━━━━━━━━━━━\u001b[0m\u001b[37m\u001b[0m \u001b[1m16s\u001b[0m 81ms/step - accuracy: 0.7895 - loss: 0.4796 - val_accuracy: 0.7896 - val_loss: 0.4763\n",
            "Epoch 7/10\n",
            "\u001b[1m200/200\u001b[0m \u001b[32m━━━━━━━━━━━━━━━━━━━━\u001b[0m\u001b[37m\u001b[0m \u001b[1m66s\u001b[0m 132ms/step - accuracy: 0.7960 - loss: 0.4640 - val_accuracy: 0.8172 - val_loss: 0.4378\n",
            "Epoch 8/10\n",
            "\u001b[1m200/200\u001b[0m \u001b[32m━━━━━━━━━━━━━━━━━━━━\u001b[0m\u001b[37m\u001b[0m \u001b[1m17s\u001b[0m 83ms/step - accuracy: 0.8248 - loss: 0.4131 - val_accuracy: 0.7760 - val_loss: 0.4696\n",
            "Epoch 9/10\n",
            "\u001b[1m200/200\u001b[0m \u001b[32m━━━━━━━━━━━━━━━━━━━━\u001b[0m\u001b[37m\u001b[0m \u001b[1m27s\u001b[0m 135ms/step - accuracy: 0.7887 - loss: 0.4650 - val_accuracy: 0.8020 - val_loss: 0.4453\n",
            "Epoch 10/10\n",
            "\u001b[1m200/200\u001b[0m \u001b[32m━━━━━━━━━━━━━━━━━━━━\u001b[0m\u001b[37m\u001b[0m \u001b[1m16s\u001b[0m 81ms/step - accuracy: 0.8337 - loss: 0.3932 - val_accuracy: 0.8320 - val_loss: 0.3906\n"
          ]
        }
      ],
      "source": [
        "history_RNN = model_RNN.fit(input_train, y_train, epochs=10, steps_per_epoch=200, batch_size=64, validation_split=0.2)"
      ]
    },
    {
      "cell_type": "code",
      "execution_count": 27,
      "metadata": {
        "colab": {
          "base_uri": "https://localhost:8080/"
        },
        "id": "7mGDrsNYxutj",
        "outputId": "d5d395bd-35ee-4ced-b761-88800ed4f0bd"
      },
      "outputs": [
        {
          "output_type": "stream",
          "name": "stdout",
          "text": [
            "\u001b[1m782/782\u001b[0m \u001b[32m━━━━━━━━━━━━━━━━━━━━\u001b[0m\u001b[37m\u001b[0m \u001b[1m19s\u001b[0m 25ms/step - accuracy: 0.8201 - loss: 0.3997\n",
            "Test accuracy: 0.8150799870491028\n"
          ]
        }
      ],
      "source": [
        "\n",
        "_, accuracy_RNN = model_RNN.evaluate(input_test, y_test)\n",
        "print(\"Test accuracy:\", accuracy_RNN)"
      ]
    },
    {
      "cell_type": "markdown",
      "metadata": {
        "id": "gvH_wxE1xutj"
      },
      "source": [
        "BRNN"
      ]
    },
    {
      "cell_type": "code",
      "execution_count": 28,
      "metadata": {
        "id": "wvcSTeAZxutk"
      },
      "outputs": [],
      "source": [
        "model_BRNN = Sequential()\n",
        "model_BRNN.add(Embedding(max_features, 32))\n",
        "model_BRNN.add(Bidirectional(SimpleRNN(units=32)))\n",
        "model_BRNN.add(Dense(units=1, activation='sigmoid'))\n",
        "\n",
        "model_BRNN.compile(optimizer=Adamax(learning_rate=0.0005), loss='binary_crossentropy', metrics=['accuracy'])"
      ]
    },
    {
      "cell_type": "code",
      "execution_count": 29,
      "metadata": {
        "colab": {
          "base_uri": "https://localhost:8080/"
        },
        "id": "nWdLfyArxutk",
        "outputId": "3c956a0d-dafd-41b2-b81d-6d9810c96bb0"
      },
      "outputs": [
        {
          "output_type": "stream",
          "name": "stdout",
          "text": [
            "Epoch 1/10\n",
            "\u001b[1m200/200\u001b[0m \u001b[32m━━━━━━━━━━━━━━━━━━━━\u001b[0m\u001b[37m\u001b[0m \u001b[1m55s\u001b[0m 259ms/step - accuracy: 0.4999 - loss: 0.6964 - val_accuracy: 0.5222 - val_loss: 0.6911\n",
            "Epoch 2/10\n",
            "\u001b[1m200/200\u001b[0m \u001b[32m━━━━━━━━━━━━━━━━━━━━\u001b[0m\u001b[37m\u001b[0m \u001b[1m31s\u001b[0m 155ms/step - accuracy: 0.5290 - loss: 0.6905 - val_accuracy: 0.5368 - val_loss: 0.6896\n",
            "Epoch 3/10\n",
            "\u001b[1m200/200\u001b[0m \u001b[32m━━━━━━━━━━━━━━━━━━━━\u001b[0m\u001b[37m\u001b[0m \u001b[1m50s\u001b[0m 249ms/step - accuracy: 0.5593 - loss: 0.6854 - val_accuracy: 0.5542 - val_loss: 0.6868\n",
            "Epoch 4/10\n",
            "\u001b[1m200/200\u001b[0m \u001b[32m━━━━━━━━━━━━━━━━━━━━\u001b[0m\u001b[37m\u001b[0m \u001b[1m31s\u001b[0m 153ms/step - accuracy: 0.5767 - loss: 0.6795 - val_accuracy: 0.5704 - val_loss: 0.6821\n",
            "Epoch 5/10\n",
            "\u001b[1m200/200\u001b[0m \u001b[32m━━━━━━━━━━━━━━━━━━━━\u001b[0m\u001b[37m\u001b[0m \u001b[1m52s\u001b[0m 252ms/step - accuracy: 0.6447 - loss: 0.6560 - val_accuracy: 0.7104 - val_loss: 0.5871\n",
            "Epoch 6/10\n",
            "\u001b[1m200/200\u001b[0m \u001b[32m━━━━━━━━━━━━━━━━━━━━\u001b[0m\u001b[37m\u001b[0m \u001b[1m28s\u001b[0m 141ms/step - accuracy: 0.7430 - loss: 0.5503 - val_accuracy: 0.7542 - val_loss: 0.5425\n",
            "Epoch 7/10\n",
            "\u001b[1m200/200\u001b[0m \u001b[32m━━━━━━━━━━━━━━━━━━━━\u001b[0m\u001b[37m\u001b[0m \u001b[1m52s\u001b[0m 246ms/step - accuracy: 0.7830 - loss: 0.4962 - val_accuracy: 0.7794 - val_loss: 0.4851\n",
            "Epoch 8/10\n",
            "\u001b[1m200/200\u001b[0m \u001b[32m━━━━━━━━━━━━━━━━━━━━\u001b[0m\u001b[37m\u001b[0m \u001b[1m30s\u001b[0m 150ms/step - accuracy: 0.8129 - loss: 0.4425 - val_accuracy: 0.7914 - val_loss: 0.4619\n",
            "Epoch 9/10\n",
            "\u001b[1m200/200\u001b[0m \u001b[32m━━━━━━━━━━━━━━━━━━━━\u001b[0m\u001b[37m\u001b[0m \u001b[1m54s\u001b[0m 255ms/step - accuracy: 0.8326 - loss: 0.4059 - val_accuracy: 0.8140 - val_loss: 0.4264\n",
            "Epoch 10/10\n",
            "\u001b[1m200/200\u001b[0m \u001b[32m━━━━━━━━━━━━━━━━━━━━\u001b[0m\u001b[37m\u001b[0m \u001b[1m29s\u001b[0m 144ms/step - accuracy: 0.8459 - loss: 0.3722 - val_accuracy: 0.8092 - val_loss: 0.4327\n"
          ]
        }
      ],
      "source": [
        "history_BRNN = model_BRNN.fit(input_train, y_train, epochs=10, steps_per_epoch=200, batch_size=64, validation_split=0.2)"
      ]
    },
    {
      "cell_type": "code",
      "execution_count": 30,
      "metadata": {
        "colab": {
          "base_uri": "https://localhost:8080/"
        },
        "id": "LSFNRPynxutl",
        "outputId": "67c2b4ac-76d5-4625-8560-390132d75280"
      },
      "outputs": [
        {
          "output_type": "stream",
          "name": "stdout",
          "text": [
            "\u001b[1m782/782\u001b[0m \u001b[32m━━━━━━━━━━━━━━━━━━━━\u001b[0m\u001b[37m\u001b[0m \u001b[1m33s\u001b[0m 43ms/step - accuracy: 0.8097 - loss: 0.4254\n",
            "Test accuracy: 0.8078399896621704\n"
          ]
        }
      ],
      "source": [
        "_, accuracy_BRNN = model_BRNN.evaluate(input_test, y_test)\n",
        "print(\"Test accuracy:\", accuracy_BRNN)"
      ]
    },
    {
      "cell_type": "markdown",
      "metadata": {
        "id": "27frfvPCxutm"
      },
      "source": [
        "BLSTM"
      ]
    },
    {
      "cell_type": "code",
      "execution_count": 31,
      "metadata": {
        "id": "AWhmI-21xutm"
      },
      "outputs": [],
      "source": [
        "model_BLSTM = Sequential()\n",
        "model_BLSTM.add(Embedding(max_features, 32))\n",
        "model_BLSTM.add(Bidirectional(LSTM(units=32)))\n",
        "model_BLSTM.add(Dense(units=1, activation='sigmoid'))\n",
        "\n",
        "model_BLSTM.compile(optimizer=Adamax(learning_rate=0.0005), loss='binary_crossentropy', metrics=['accuracy'])"
      ]
    },
    {
      "cell_type": "code",
      "execution_count": 32,
      "metadata": {
        "colab": {
          "base_uri": "https://localhost:8080/"
        },
        "id": "1VkFRxoFxutm",
        "outputId": "605d551d-a2b8-4fcd-892f-badce3dffcba"
      },
      "outputs": [
        {
          "output_type": "stream",
          "name": "stdout",
          "text": [
            "Epoch 1/10\n",
            "\u001b[1m200/200\u001b[0m \u001b[32m━━━━━━━━━━━━━━━━━━━━\u001b[0m\u001b[37m\u001b[0m \u001b[1m27s\u001b[0m 137ms/step - accuracy: 0.8432 - loss: 0.3761 - val_accuracy: 0.8254 - val_loss: 0.3970\n",
            "Epoch 2/10\n",
            "\u001b[1m200/200\u001b[0m \u001b[32m━━━━━━━━━━━━━━━━━━━━\u001b[0m\u001b[37m\u001b[0m \u001b[1m16s\u001b[0m 81ms/step - accuracy: 0.8482 - loss: 0.3541 - val_accuracy: 0.8422 - val_loss: 0.3708\n",
            "Epoch 3/10\n",
            "\u001b[1m200/200\u001b[0m \u001b[32m━━━━━━━━━━━━━━━━━━━━\u001b[0m\u001b[37m\u001b[0m \u001b[1m27s\u001b[0m 133ms/step - accuracy: 0.8687 - loss: 0.3198 - val_accuracy: 0.8520 - val_loss: 0.3522\n",
            "Epoch 4/10\n",
            "\u001b[1m200/200\u001b[0m \u001b[32m━━━━━━━━━━━━━━━━━━━━\u001b[0m\u001b[37m\u001b[0m \u001b[1m16s\u001b[0m 78ms/step - accuracy: 0.8707 - loss: 0.3195 - val_accuracy: 0.8546 - val_loss: 0.3546\n",
            "Epoch 5/10\n",
            "\u001b[1m200/200\u001b[0m \u001b[32m━━━━━━━━━━━━━━━━━━━━\u001b[0m\u001b[37m\u001b[0m \u001b[1m27s\u001b[0m 133ms/step - accuracy: 0.8905 - loss: 0.2826 - val_accuracy: 0.8512 - val_loss: 0.3512\n",
            "Epoch 6/10\n",
            "\u001b[1m200/200\u001b[0m \u001b[32m━━━━━━━━━━━━━━━━━━━━\u001b[0m\u001b[37m\u001b[0m \u001b[1m19s\u001b[0m 94ms/step - accuracy: 0.8912 - loss: 0.2768 - val_accuracy: 0.8600 - val_loss: 0.3343\n",
            "Epoch 7/10\n",
            "\u001b[1m200/200\u001b[0m \u001b[32m━━━━━━━━━━━━━━━━━━━━\u001b[0m\u001b[37m\u001b[0m \u001b[1m64s\u001b[0m 138ms/step - accuracy: 0.9049 - loss: 0.2498 - val_accuracy: 0.8688 - val_loss: 0.3181\n",
            "Epoch 8/10\n",
            "\u001b[1m200/200\u001b[0m \u001b[32m━━━━━━━━━━━━━━━━━━━━\u001b[0m\u001b[37m\u001b[0m \u001b[1m17s\u001b[0m 82ms/step - accuracy: 0.9112 - loss: 0.2354 - val_accuracy: 0.8704 - val_loss: 0.3231\n",
            "Epoch 9/10\n",
            "\u001b[1m200/200\u001b[0m \u001b[32m━━━━━━━━━━━━━━━━━━━━\u001b[0m\u001b[37m\u001b[0m \u001b[1m65s\u001b[0m 136ms/step - accuracy: 0.9248 - loss: 0.2063 - val_accuracy: 0.8766 - val_loss: 0.3089\n",
            "Epoch 10/10\n",
            "\u001b[1m200/200\u001b[0m \u001b[32m━━━━━━━━━━━━━━━━━━━━\u001b[0m\u001b[37m\u001b[0m \u001b[1m16s\u001b[0m 79ms/step - accuracy: 0.9211 - loss: 0.2159 - val_accuracy: 0.8766 - val_loss: 0.3093\n"
          ]
        }
      ],
      "source": [
        "history_BLSTM = model_RNN.fit(input_train, y_train, epochs=10, steps_per_epoch=200, batch_size=64, validation_split=0.2)"
      ]
    },
    {
      "cell_type": "code",
      "execution_count": 33,
      "metadata": {
        "colab": {
          "base_uri": "https://localhost:8080/"
        },
        "id": "aLMPJwXexutn",
        "outputId": "a9a6fc32-cf59-4393-ef59-7158abf999f1"
      },
      "outputs": [
        {
          "output_type": "stream",
          "name": "stdout",
          "text": [
            "\u001b[1m782/782\u001b[0m \u001b[32m━━━━━━━━━━━━━━━━━━━━\u001b[0m\u001b[37m\u001b[0m \u001b[1m54s\u001b[0m 67ms/step - accuracy: 0.5126 - loss: 0.6931\n",
            "Test accuracy: 0.5077599883079529\n"
          ]
        }
      ],
      "source": [
        "_, accuracy_BLSTM = model_BLSTM.evaluate(input_test, y_test)\n",
        "print(\"Test accuracy:\", accuracy_BLSTM)"
      ]
    },
    {
      "cell_type": "markdown",
      "metadata": {
        "id": "ZKWQ2VvNxutn"
      },
      "source": [
        "RNN with deep layers"
      ]
    },
    {
      "cell_type": "code",
      "execution_count": 34,
      "metadata": {
        "id": "vnbrFq0Rxutn"
      },
      "outputs": [],
      "source": [
        "model_RNNDL = Sequential()\n",
        "model_RNNDL.add(Embedding(max_features, 32))\n",
        "model_RNNDL.add(SimpleRNN(units=32, return_sequences=True))\n",
        "model_RNNDL.add(SimpleRNN(units=32))\n",
        "model_RNNDL.add(Dense(units=1, activation='sigmoid'))\n",
        "\n",
        "model_RNNDL.compile(optimizer='rmsprop', loss='binary_crossentropy', metrics=['accuracy'])"
      ]
    },
    {
      "cell_type": "code",
      "execution_count": 35,
      "metadata": {
        "colab": {
          "base_uri": "https://localhost:8080/"
        },
        "id": "ZceZ2ioGxuto",
        "outputId": "1a746b65-fd5e-4088-8108-f02f6eeb1148"
      },
      "outputs": [
        {
          "output_type": "stream",
          "name": "stdout",
          "text": [
            "Epoch 1/10\n",
            "\u001b[1m200/200\u001b[0m \u001b[32m━━━━━━━━━━━━━━━━━━━━\u001b[0m\u001b[37m\u001b[0m \u001b[1m58s\u001b[0m 269ms/step - accuracy: 0.5813 - loss: 0.6657 - val_accuracy: 0.7018 - val_loss: 0.5626\n",
            "Epoch 2/10\n",
            "\u001b[1m200/200\u001b[0m \u001b[32m━━━━━━━━━━━━━━━━━━━━\u001b[0m\u001b[37m\u001b[0m \u001b[1m33s\u001b[0m 165ms/step - accuracy: 0.7779 - loss: 0.4783 - val_accuracy: 0.7998 - val_loss: 0.4416\n",
            "Epoch 3/10\n",
            "\u001b[1m200/200\u001b[0m \u001b[32m━━━━━━━━━━━━━━━━━━━━\u001b[0m\u001b[37m\u001b[0m \u001b[1m109s\u001b[0m 270ms/step - accuracy: 0.8242 - loss: 0.3994 - val_accuracy: 0.8434 - val_loss: 0.3888\n",
            "Epoch 4/10\n",
            "\u001b[1m200/200\u001b[0m \u001b[32m━━━━━━━━━━━━━━━━━━━━\u001b[0m\u001b[37m\u001b[0m \u001b[1m32s\u001b[0m 161ms/step - accuracy: 0.8508 - loss: 0.3532 - val_accuracy: 0.8422 - val_loss: 0.3722\n",
            "Epoch 5/10\n",
            "\u001b[1m200/200\u001b[0m \u001b[32m━━━━━━━━━━━━━━━━━━━━\u001b[0m\u001b[37m\u001b[0m \u001b[1m109s\u001b[0m 269ms/step - accuracy: 0.8943 - loss: 0.2720 - val_accuracy: 0.8472 - val_loss: 0.3661\n",
            "Epoch 6/10\n",
            "\u001b[1m200/200\u001b[0m \u001b[32m━━━━━━━━━━━━━━━━━━━━\u001b[0m\u001b[37m\u001b[0m \u001b[1m32s\u001b[0m 160ms/step - accuracy: 0.8861 - loss: 0.2836 - val_accuracy: 0.8384 - val_loss: 0.3928\n",
            "Epoch 7/10\n",
            "\u001b[1m200/200\u001b[0m \u001b[32m━━━━━━━━━━━━━━━━━━━━\u001b[0m\u001b[37m\u001b[0m \u001b[1m54s\u001b[0m 268ms/step - accuracy: 0.9238 - loss: 0.2078 - val_accuracy: 0.8322 - val_loss: 0.4299\n",
            "Epoch 8/10\n",
            "\u001b[1m200/200\u001b[0m \u001b[32m━━━━━━━━━━━━━━━━━━━━\u001b[0m\u001b[37m\u001b[0m \u001b[1m32s\u001b[0m 161ms/step - accuracy: 0.9166 - loss: 0.2141 - val_accuracy: 0.8326 - val_loss: 0.4752\n",
            "Epoch 9/10\n",
            "\u001b[1m200/200\u001b[0m \u001b[32m━━━━━━━━━━━━━━━━━━━━\u001b[0m\u001b[37m\u001b[0m \u001b[1m110s\u001b[0m 271ms/step - accuracy: 0.9525 - loss: 0.1321 - val_accuracy: 0.8136 - val_loss: 0.4827\n",
            "Epoch 10/10\n",
            "\u001b[1m200/200\u001b[0m \u001b[32m━━━━━━━━━━━━━━━━━━━━\u001b[0m\u001b[37m\u001b[0m \u001b[1m32s\u001b[0m 162ms/step - accuracy: 0.9523 - loss: 0.1320 - val_accuracy: 0.8030 - val_loss: 0.5530\n"
          ]
        }
      ],
      "source": [
        "history_RNNDL = model_RNNDL.fit(input_train, y_train, epochs=10, steps_per_epoch=200, batch_size=64, validation_split=0.2)"
      ]
    },
    {
      "cell_type": "code",
      "execution_count": 36,
      "metadata": {
        "colab": {
          "base_uri": "https://localhost:8080/"
        },
        "id": "hWmQy0cRxutp",
        "outputId": "88ad725e-4e5f-4f41-a122-8a1130ddbe8a"
      },
      "outputs": [
        {
          "output_type": "stream",
          "name": "stdout",
          "text": [
            "\u001b[1m782/782\u001b[0m \u001b[32m━━━━━━━━━━━━━━━━━━━━\u001b[0m\u001b[37m\u001b[0m \u001b[1m39s\u001b[0m 50ms/step - accuracy: 0.7997 - loss: 0.5591\n",
            "Test accuracy: 0.8026800155639648\n"
          ]
        }
      ],
      "source": [
        "_, accuracy_RNNDL = model_RNNDL.evaluate(input_test, y_test)\n",
        "print(\"Test accuracy:\", accuracy_RNNDL)"
      ]
    },
    {
      "cell_type": "markdown",
      "metadata": {
        "id": "tIVBPgu_xutp"
      },
      "source": [
        "Results"
      ]
    },
    {
      "cell_type": "code",
      "execution_count": 37,
      "metadata": {
        "colab": {
          "base_uri": "https://localhost:8080/",
          "height": 472
        },
        "id": "grAvkq9gxutp",
        "outputId": "75981286-2114-4634-fb8e-711ffdc299f1"
      },
      "outputs": [
        {
          "output_type": "display_data",
          "data": {
            "text/plain": [
              "<Figure size 640x480 with 1 Axes>"
            ],
            "image/png": "[encoded data removed]"
          },
          "metadata": {}
        }
      ],
      "source": [
        "models = ['RNN', 'GRU', 'LSTM', 'BRNN', 'BLSTM', 'RNNDL']\n",
        "accuracies = [accuracy_RNN, accuracy_GRU, accuracy_LSTM, accuracy_BRNN, accuracy_BLSTM, accuracy_RNNDL]\n",
        "\n",
        "plt.bar(models, accuracies)\n",
        "plt.xlabel('Model')\n",
        "plt.ylabel('Accuracy')\n",
        "plt.title('Accuracy of Different RNN Models')\n",
        "plt.show()"
      ]
    }
  ],
  "metadata": {
    "language_info": {
      "name": "python"
    },
    "orig_nbformat": 4,
    "colab": {
      "provenance": []
    },
    "kernelspec": {
      "name": "python3",
      "display_name": "Python 3"
    }
  },
  "nbformat": 4,
  "nbformat_minor": 0
}