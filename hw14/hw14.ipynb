{
 "cells": [
  {
   "cell_type": "code",
   "execution_count": null,
   "metadata": {},
   "outputs": [],
   "source": [
    "from tensorflow import keras\n",
    "from keras.models import Sequential\n",
    "from keras.layers import Embedding, SimpleRNN, Dense, LSTM, Bidirectional, GRU\n",
    "from keras.datasets import imdb\n",
    "from keras.utils import pad_sequences\n",
    "from keras.optimizers import Adamax\n",
    "import matplotlib.pyplot as plt"
   ]
  },
  {
   "cell_type": "code",
   "execution_count": null,
   "metadata": {},
   "outputs": [],
   "source": [
    "max_features = 10000\n",
    "maxlen = 500\n",
    "batch_size = 64"
   ]
  },
  {
   "cell_type": "code",
   "execution_count": null,
   "metadata": {},
   "outputs": [],
   "source": [
    "(input_train, y_train), (input_test, y_test) = imdb.load_data(num_words=max_features)"
   ]
  },
  {
   "cell_type": "code",
   "execution_count": null,
   "metadata": {},
   "outputs": [],
   "source": [
    "input_train = pad_sequences(input_train, maxlen=maxlen)\n",
    "input_test = pad_sequences(input_test, maxlen=maxlen)"
   ]
  },
  {
   "cell_type": "markdown",
   "metadata": {},
   "source": [
    "GRU"
   ]
  },
  {
   "cell_type": "code",
   "execution_count": null,
   "metadata": {},
   "outputs": [],
   "source": [
    "model_GRU = Sequential([\n",
    "  Embedding(max_features, 32),\n",
    "\n",
    "  GRU(32),\n",
    "\n",
    "  Dense(1, activation='sigmoid')\n",
    "  ]\n",
    ")\n",
    "\n",
    "model_GRU.compile(optimizer='rmsprop', loss='binary_crossentropy', metrics=['acc'])\n",
    "model_GRU.summary()"
   ]
  },
  {
   "cell_type": "code",
   "execution_count": null,
   "metadata": {},
   "outputs": [],
   "source": [
    "history_GRU = model_GRU.fit(input_train, y_train, epochs=10, steps_per_epoch=200, batch_size=64, validation_split=0.2)"
   ]
  },
  {
   "cell_type": "code",
   "execution_count": null,
   "metadata": {},
   "outputs": [],
   "source": [
    "_, accuracy_GRU = model_GRU.evaluate(input_test, y_test)\n",
    "print(\"Test accuracy:\", accuracy_GRU)"
   ]
  },
  {
   "cell_type": "markdown",
   "metadata": {},
   "source": [
    "LSTM"
   ]
  },
  {
   "cell_type": "code",
   "execution_count": null,
   "metadata": {},
   "outputs": [],
   "source": [
    "model_LSTM = Sequential([\n",
    "  Embedding(max_features, 32),\n",
    "\n",
    "  LSTM(32),\n",
    "\n",
    "  Dense(1, activation='sigmoid')\n",
    "  ]\n",
    ")\n",
    "\n",
    "model_LSTM.compile(optimizer=Adamax(learning_rate=0.0005), loss='binary_crossentropy', metrics=['accuracy'])\n",
    "model_LSTM.summary()"
   ]
  },
  {
   "cell_type": "code",
   "execution_count": null,
   "metadata": {},
   "outputs": [],
   "source": [
    "history_LSTM = model_LSTM.fit(input_train, y_train, epochs=10, steps_per_epoch=200, batch_size=64, validation_split=0.2)"
   ]
  },
  {
   "cell_type": "code",
   "execution_count": null,
   "metadata": {},
   "outputs": [],
   "source": [
    "_, accuracy_LSTM = model_LSTM.evaluate(input_test, y_test)\n",
    "print(\"Test accuracy:\", accuracy_LSTM)"
   ]
  },
  {
   "cell_type": "markdown",
   "metadata": {},
   "source": [
    "RNN"
   ]
  },
  {
   "cell_type": "code",
   "execution_count": null,
   "metadata": {},
   "outputs": [],
   "source": [
    "model_RNN = Sequential([\n",
    "  Embedding(max_features, 32),\n",
    "\n",
    "  SimpleRNN(32),\n",
    "\n",
    "  Dense(1, activation='sigmoid')\n",
    "  ]\n",
    ")\n",
    "\n",
    "\n",
    "model_RNN.compile(optimizer=Adamax(learning_rate=0.0005), loss='binary_crossentropy', metrics=['accuracy'])\n",
    "model_RNN.summary()"
   ]
  },
  {
   "cell_type": "code",
   "execution_count": null,
   "metadata": {},
   "outputs": [],
   "source": [
    "history_RNN = model_RNN.fit(input_train, y_train, epochs=10, steps_per_epoch=200, batch_size=64, validation_split=0.2)"
   ]
  },
  {
   "cell_type": "code",
   "execution_count": null,
   "metadata": {},
   "outputs": [],
   "source": [
    "\n",
    "_, accuracy_RNN = model_RNN.evaluate(input_test, y_test)\n",
    "print(\"Test accuracy:\", accuracy_RNN)"
   ]
  },
  {
   "cell_type": "markdown",
   "metadata": {},
   "source": [
    "BRNN"
   ]
  },
  {
   "cell_type": "code",
   "execution_count": null,
   "metadata": {},
   "outputs": [],
   "source": [
    "model_BRNN = Sequential()\n",
    "model_BRNN.add(Embedding(max_features, 32))\n",
    "model_BRNN.add(Bidirectional(SimpleRNN(units=32)))\n",
    "model_BRNN.add(Dense(units=1, activation='sigmoid'))\n",
    "\n",
    "model_BRNN.compile(optimizer=Adamax(learning_rate=0.0005), loss='binary_crossentropy', metrics=['accuracy'])\n",
    "model_BRNN.summary()"
   ]
  },
  {
   "cell_type": "code",
   "execution_count": null,
   "metadata": {},
   "outputs": [],
   "source": [
    "history_BRNN = model_BRNN.fit(input_train, y_train, epochs=10, steps_per_epoch=200, batch_size=64, validation_split=0.2)"
   ]
  },
  {
   "cell_type": "code",
   "execution_count": null,
   "metadata": {},
   "outputs": [],
   "source": [
    "acc = history_BRNN.history['accuracy']\n",
    "val_acc = history_BRNN.history['val_accuracy']\n",
    "loss = history_BRNN.history['loss']\n",
    "val_loss = history_BRNN.history['val_loss']\n",
    "\n",
    "epochs = range(1, len(acc) + 1)\n",
    "\n",
    "plt.plot(epochs, acc, 'bo', label='Точність на тренуванні')\n",
    "plt.plot(epochs, val_acc, 'b', label='Точність на валідації')\n",
    "plt.title('Точність тренування і валідації')\n",
    "plt.legend()\n",
    "\n",
    "plt.figure()\n",
    "\n",
    "plt.plot(epochs, loss, 'bo', label='Втрати на тренуванні')\n",
    "plt.plot(epochs, val_loss, 'b', label='Втрати на валідації')\n",
    "plt.title('Втрати тренування і валідації')\n",
    "plt.legend()\n",
    "\n",
    "plt.show()"
   ]
  },
  {
   "cell_type": "code",
   "execution_count": null,
   "metadata": {},
   "outputs": [],
   "source": [
    "_, accuracy_BRNN = model_BRNN.evaluate(input_test, y_test)\n",
    "print(\"Test accuracy:\", accuracy_BRNN)"
   ]
  },
  {
   "cell_type": "markdown",
   "metadata": {},
   "source": [
    "BLSTM"
   ]
  },
  {
   "cell_type": "code",
   "execution_count": null,
   "metadata": {},
   "outputs": [],
   "source": [
    "model_BLSTM = Sequential()\n",
    "model_BLSTM.add(Embedding(max_features, 32))\n",
    "model_BLSTM.add(Bidirectional(LSTM(units=32)))\n",
    "model_BLSTM.add(Dense(units=1, activation='sigmoid'))\n",
    "\n",
    "model_BLSTM.compile(optimizer=Adamax(learning_rate=0.0005), loss='binary_crossentropy', metrics=['accuracy'])\n",
    "model_BLSTM.summary()"
   ]
  },
  {
   "cell_type": "code",
   "execution_count": null,
   "metadata": {},
   "outputs": [],
   "source": [
    "history_BLSTM = model_RNN.fit(input_train, y_train, epochs=10, steps_per_epoch=200, batch_size=64, validation_split=0.2)"
   ]
  },
  {
   "cell_type": "code",
   "execution_count": null,
   "metadata": {},
   "outputs": [],
   "source": [
    "acc = history_BLSTM.history['accuracy']\n",
    "val_acc = history_BLSTM.history['val_accuracy']\n",
    "loss = history_BLSTM.history['loss']\n",
    "val_loss = history_BLSTM.history['val_loss']\n",
    "\n",
    "epochs = range(1, len(acc) + 1)\n",
    "\n",
    "plt.plot(epochs, acc, 'bo', label='Точність на тренуванні')\n",
    "plt.plot(epochs, val_acc, 'b', label='Точність на валідації')\n",
    "plt.title('Точність тренування і валідації')\n",
    "plt.legend()\n",
    "\n",
    "plt.figure()\n",
    "\n",
    "plt.plot(epochs, loss, 'bo', label='Втрати на тренуванні')\n",
    "plt.plot(epochs, val_loss, 'b', label='Втрати на валідації')\n",
    "plt.title('Втрати тренування і валідації')\n",
    "plt.legend()\n",
    "\n",
    "plt.show()"
   ]
  },
  {
   "cell_type": "code",
   "execution_count": null,
   "metadata": {},
   "outputs": [],
   "source": [
    "_, accuracy_BLSTM = model_BLSTM.evaluate(input_test, y_test)\n",
    "print(\"Test accuracy:\", accuracy_BLSTM)"
   ]
  },
  {
   "cell_type": "markdown",
   "metadata": {},
   "source": [
    "RNN with deep layers"
   ]
  },
  {
   "cell_type": "code",
   "execution_count": null,
   "metadata": {},
   "outputs": [],
   "source": [
    "model_RNNDL = Sequential()\n",
    "model_RNNDL.add(Embedding(max_features, 32))\n",
    "model_RNNDL.add(SimpleRNN(units=32, return_sequences=True))\n",
    "model_RNNDL.add(SimpleRNN(units=32))\n",
    "model_RNNDL.add(Dense(units=1, activation='sigmoid'))\n",
    "\n",
    "model_RNNDL.compile(optimizer='rmsprop', loss='binary_crossentropy', metrics=['accuracy'])\n",
    "model_RNNDL.summary()"
   ]
  },
  {
   "cell_type": "code",
   "execution_count": null,
   "metadata": {},
   "outputs": [],
   "source": [
    "history_RNNDL = model_RNNDL.fit(input_train, y_train, epochs=10, steps_per_epoch=200, batch_size=64, validation_split=0.2)"
   ]
  },
  {
   "cell_type": "code",
   "execution_count": null,
   "metadata": {},
   "outputs": [],
   "source": [
    "acc = history_RNNDL.history['accuracy']\n",
    "val_acc = history_RNNDL.history['val_accuracy']\n",
    "loss = history_RNNDL.history['loss']\n",
    "val_loss = history_RNNDL.history['val_loss']\n",
    "\n",
    "epochs = range(1, len(acc) + 1)\n",
    "\n",
    "plt.plot(epochs, acc, 'bo', label='Точність на тренуванні')\n",
    "plt.plot(epochs, val_acc, 'b', label='Точність на валідації')\n",
    "plt.title('Точність тренування і валідації')\n",
    "plt.legend()\n",
    "\n",
    "plt.figure()\n",
    "\n",
    "plt.plot(epochs, loss, 'bo', label='Втрати на тренуванні')\n",
    "plt.plot(epochs, val_loss, 'b', label='Втрати на валідації')\n",
    "plt.title('Втрати тренування і валідації')\n",
    "plt.legend()\n",
    "\n",
    "plt.show()"
   ]
  },
  {
   "cell_type": "code",
   "execution_count": null,
   "metadata": {},
   "outputs": [],
   "source": [
    "_, accuracy_RNNDL = model_RNNDL.evaluate(input_test, y_test)\n",
    "print(\"Test accuracy:\", accuracy_RNNDL)"
   ]
  },
  {
   "cell_type": "markdown",
   "metadata": {},
   "source": [
    "Results"
   ]
  },
  {
   "cell_type": "code",
   "execution_count": null,
   "metadata": {},
   "outputs": [],
   "source": [
    "models = ['RNN', 'GRU', 'LSTM', 'BRNN', 'BLSTM', 'RNNDL']\n",
    "accuracies = [accuracy_RNN, accuracy_GRU, accuracy_LSTM, accuracy_BRNN, accuracy_BLSTM, accuracy_RNNDL]\n",
    "\n",
    "plt.bar(models, accuracies)\n",
    "plt.xlabel('Model')\n",
    "plt.ylabel('Accuracy')\n",
    "plt.title('Accuracy of Different RNN Models')\n",
    "plt.show()"
   ]
  }
 ],
 "metadata": {
  "language_info": {
   "name": "python"
  },
  "orig_nbformat": 4
 },
 "nbformat": 4,
 "nbformat_minor": 2
}
